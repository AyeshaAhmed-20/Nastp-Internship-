{
 "cells": [
  {
   "cell_type": "code",
   "execution_count": 1,
   "metadata": {},
   "outputs": [
    {
     "name": "stdout",
     "output_type": "stream",
     "text": [
      "Accuracy with SMOTE: 0.99\n",
      "Accuracy with NearMiss: 0.95\n"
     ]
    }
   ],
   "source": [
    "import pandas as pd\n",
    "import numpy as np\n",
    "import re\n",
    "from sklearn.model_selection import train_test_split\n",
    "from sklearn.feature_extraction.text import TfidfVectorizer\n",
    "from sklearn.ensemble import RandomForestClassifier\n",
    "from sklearn.metrics import accuracy_score\n",
    "from imblearn.over_sampling import SMOTE\n",
    "from imblearn.under_sampling import NearMiss\n",
    "\n",
    "# Load the dataset\n",
    "df = pd.read_csv('spam_assassin.csv')\n",
    "\n",
    "# Cleaning function\n",
    "def clean_text(text):\n",
    "    text = text.lower()  # Convert to lowercase\n",
    "    text = re.sub(r'\\s+', ' ', text).strip()  # Remove extra spaces\n",
    "    text = re.sub(r'[^a-z\\s]', '', text)  # Remove special characters\n",
    "    return text\n",
    "\n",
    "# Apply the cleaning function to the email text column (assuming the column name is 'email')\n",
    "df['text'] = df['text'].apply(clean_text)\n",
    "\n",
    "# Vectorize the text data\n",
    "tfidf = TfidfVectorizer(max_features=5000)\n",
    "X = tfidf.fit_transform(df['text']).toarray()\n",
    "\n",
    "# Assuming the target column is 'label' (adjust this based on your dataset)\n",
    "y = df['target']\n",
    "\n",
    "# Split the data into training and testing sets\n",
    "X_train, X_test, y_train, y_test = train_test_split(X, y, test_size=0.3, random_state=42)\n",
    "\n",
    "# Apply SMOTE\n",
    "smote = SMOTE(random_state=42)\n",
    "X_smote, y_smote = smote.fit_resample(X_train, y_train)\n",
    "\n",
    "# Train a classifier with SMOTE data\n",
    "clf_smote = RandomForestClassifier(random_state=42)\n",
    "clf_smote.fit(X_smote, y_smote)\n",
    "y_pred_smote = clf_smote.predict(X_test)\n",
    "accuracy_smote = accuracy_score(y_test, y_pred_smote)\n",
    "\n",
    "# Apply NearMiss\n",
    "nearmiss = NearMiss()\n",
    "X_nearmiss, y_nearmiss = nearmiss.fit_resample(X_train, y_train)\n",
    "\n",
    "# Train a classifier with NearMiss data\n",
    "clf_nearmiss = RandomForestClassifier(random_state=42)\n",
    "clf_nearmiss.fit(X_nearmiss, y_nearmiss)\n",
    "y_pred_nearmiss = clf_nearmiss.predict(X_test)\n",
    "accuracy_nearmiss = accuracy_score(y_test, y_pred_nearmiss)\n",
    "\n",
    "# Print the accuracy of both methods\n",
    "print(f'Accuracy with SMOTE: {accuracy_smote:.2f}')\n",
    "print(f'Accuracy with NearMiss: {accuracy_nearmiss:.2f}')\n"
   ]
  },
  {
   "cell_type": "code",
   "execution_count": 2,
   "metadata": {},
   "outputs": [
    {
     "name": "stdout",
     "output_type": "stream",
     "text": [
      "Distribution of target labels:\n",
      "0    3900\n",
      "1    1896\n",
      "Name: target, dtype: int64\n"
     ]
    },
    {
     "data": {
      "text/plain": [
       "<AxesSubplot:title={'center':'Class Distribution'}>"
      ]
     },
     "execution_count": 2,
     "metadata": {},
     "output_type": "execute_result"
    },
    {
     "data": {
      "image/png": "[encoded data removed]",
      "text/plain": [
       "<Figure size 432x288 with 1 Axes>"
      ]
     },
     "metadata": {
      "needs_background": "light"
     },
     "output_type": "display_data"
    }
   ],
   "source": [
    "import pandas as pd\n",
    "\n",
    "# Load the dataset\n",
    "df = pd.read_csv('spam_assassin.csv')\n",
    "\n",
    "# Assuming the target column is 'label' (adjust this based on your dataset)\n",
    "label_counts = df['target'].value_counts()\n",
    "\n",
    "# Print the distribution of the target labels\n",
    "print(\"Distribution of target labels:\")\n",
    "print(label_counts)\n",
    "\n",
    "# Visualize the distribution using a bar plot\n",
    "label_counts.plot(kind='bar', title='Class Distribution')\n"
   ]
  }
 ],
 "metadata": {
  "kernelspec": {
   "display_name": ".venv",
   "language": "python",
   "name": "python3"
  },
  "language_info": {
   "codemirror_mode": {
    "name": "ipython",
    "version": 3
   },
   "file_extension": ".py",
   "mimetype": "text/x-python",
   "name": "python",
   "nbconvert_exporter": "python",
   "pygments_lexer": "ipython3",
   "version": "3.6.2"
  }
 },
 "nbformat": 4,
 "nbformat_minor": 2
}
